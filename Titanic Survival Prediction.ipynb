{
 "cells": [
  {
   "cell_type": "markdown",
   "id": "15fc344a-e20e-4ce3-ab06-de2bbf8ae175",
   "metadata": {},
   "source": [
    "# Titanic Survival Prediction"
   ]
  },
  {
   "cell_type": "markdown",
   "id": "90082797-983f-4bfc-94ac-266b84877b6c",
   "metadata": {
    "jp-MarkdownHeadingCollapsed": true
   },
   "source": [
    "## Importing Libraries and Datasets"
   ]
  },
  {
   "cell_type": "code",
   "execution_count": 156,
   "id": "37ab3c66",
   "metadata": {},
   "outputs": [],
   "source": [
    "# Import Packages for Feature Engineering and Data Visualization\n",
    "import pandas as pd\n",
    "import numpy as np\n",
    "import matplotlib.pyplot as plt\n",
    "import seaborn as sns\n",
    "import pickle\n",
    "\n",
    "# Import Packages for Machine Learning Modelling\n",
    "from sklearn.impute import KNNImputer\n",
    "from sklearn.pipeline import Pipeline\n",
    "from sklearn.preprocessing import StandardScaler, LabelEncoder, RobustScaler\n",
    "from sklearn.linear_model import LogisticRegression, LogisticRegressionCV\n",
    "from sklearn.model_selection import train_test_split\n",
    "from sklearn.metrics import confusion_matrix, accuracy_score"
   ]
  },
  {
   "cell_type": "code",
   "execution_count": 157,
   "id": "129f9514",
   "metadata": {},
   "outputs": [],
   "source": [
    "# Import Datasets\n",
    "train = pd.read_csv(\"C:/Users/New/GitProjects/MyProjects/Predicting-Titanic-Survivors/Datasets/train.csv\")\n",
    "test = pd.read_csv(\"C:/Users/New/GitProjects/MyProjects/Predicting-Titanic-Survivors/Datasets/test.csv\")"
   ]
  },
  {
   "cell_type": "code",
   "execution_count": 158,
   "id": "6d3f0426-383b-4996-a6b7-b08b1988f994",
   "metadata": {
    "scrolled": true
   },
   "outputs": [
    {
     "name": "stdout",
     "output_type": "stream",
     "text": [
      "<class 'pandas.core.frame.DataFrame'>\n",
      "Index: 1309 entries, 0 to 417\n",
      "Data columns (total 12 columns):\n",
      " #   Column       Non-Null Count  Dtype  \n",
      "---  ------       --------------  -----  \n",
      " 0   PassengerId  1309 non-null   int64  \n",
      " 1   Survived     891 non-null    float64\n",
      " 2   Pclass       1309 non-null   int64  \n",
      " 3   Name         1309 non-null   object \n",
      " 4   Sex          1309 non-null   object \n",
      " 5   Age          1046 non-null   float64\n",
      " 6   SibSp        1309 non-null   int64  \n",
      " 7   Parch        1309 non-null   int64  \n",
      " 8   Ticket       1309 non-null   object \n",
      " 9   Fare         1308 non-null   float64\n",
      " 10  Cabin        295 non-null    object \n",
      " 11  Embarked     1307 non-null   object \n",
      "dtypes: float64(3), int64(4), object(5)\n",
      "memory usage: 132.9+ KB\n"
     ]
    }
   ],
   "source": [
    "# Merge Train and Test Datasets Using the concat Method\n",
    "dataset = pd.concat([train,test])\n",
    "dataset.info()"
   ]
  },
  {
   "cell_type": "code",
   "execution_count": 159,
   "id": "1e220db8-a5ae-4eab-8256-88585460bff9",
   "metadata": {},
   "outputs": [
    {
     "data": {
      "image/png": "[encoded data removed]",
      "text/plain": [
       "<Figure size 640x480 with 1 Axes>"
      ]
     },
     "metadata": {},
     "output_type": "display_data"
    }
   ],
   "source": [
    "# Target Distribution In Train Dataset\n",
    "sns.countplot(data=train, x='Survived')\n",
    "plt.ylabel('Frequency')\n",
    "plt.xlabel('Survival Category')\n",
    "plt.xticks([0.0, 1.0], ['Did Not Survive', 'Survived']);"
   ]
  },
  {
   "cell_type": "markdown",
   "id": "52077aeb-f2c4-4bb1-babc-e1ec95e5f7db",
   "metadata": {
    "jp-MarkdownHeadingCollapsed": true
   },
   "source": [
    "## Feature Engineering and Data Cleaning"
   ]
  },
  {
   "cell_type": "code",
   "execution_count": 160,
   "id": "205d5d03-56b0-43c7-bdbb-fc6e95721f1b",
   "metadata": {},
   "outputs": [],
   "source": [
    "# Feature Cleaning and Engineering\n",
    "# Replace Column Elements for Readability\n",
    "emb = {\"Q\" : \"Queenstown\" , \"S\" : \"Southampton\" , \"C\" : \"Cherbourg\" }\n",
    "dataset['Embarked'].replace(emb)\n",
    "\n",
    "cla = {1:\"First Class\", 2: \"Second Class\", 3 :\"Third Class\"}\n",
    "dataset['Pclass'].replace(cla)\n",
    "\n",
    "# Transform Ticket into Lettered Column by Ticket Type (Numeric or Alphanumeric Ticket)\n",
    "def has_letters(string):\n",
    "    return any(char.isalpha() for char in string)\n",
    "dataset['Ticket_Type'] = dataset['Ticket'].apply(has_letters).astype('object')\n",
    "\n",
    "# Separate Dataset Features into Categorical and Numeric Variable (Useful For Visualizations)\n",
    "num_cols = list(dataset.select_dtypes(exclude=['object']).columns)\n",
    "cat_cols = list(dataset.select_dtypes(include=['object']).columns)\n",
    "\n",
    "# Encode the Categorical Features\n",
    "le = LabelEncoder()\n",
    "for col in cat_cols:\n",
    "    le.fit(dataset[col])\n",
    "    dataset[col] = le.transform(dataset[col])\n",
    "  \n",
    "# Dropped Unneeded Columns After Feature Engineering\n",
    "drop_cols = [\"Name\", \"Cabin\", \"Ticket\"]\n",
    "dataset = dataset.drop(columns = drop_cols)"
   ]
  },
  {
   "cell_type": "code",
   "execution_count": 161,
   "id": "a52e0e1c-b74b-4a81-aed3-021e0b0b874b",
   "metadata": {},
   "outputs": [],
   "source": [
    "# Create Target, Features, and Train-Test Split\n",
    "# Split Dataset into Features and Target\n",
    "X = dataset.drop(['Survived', 'PassengerId' ], axis=1)\n",
    "y = dataset['Survived']\n",
    "\n",
    "# Split into Test and Train Data by Index \n",
    "cutoff = len(train)\n",
    "X_train = X.iloc[:cutoff]\n",
    "y_train = y.iloc[:cutoff]\n",
    "X_test = X.iloc[cutoff:]\n",
    "y_test = y.iloc[cutoff:]"
   ]
  },
  {
   "cell_type": "markdown",
   "id": "506fc176-03f9-48c1-bc6e-7980af3f3987",
   "metadata": {
    "jp-MarkdownHeadingCollapsed": true
   },
   "source": [
    "## Prediction Using the Logistic Regression Model"
   ]
  },
  {
   "cell_type": "code",
   "execution_count": 162,
   "id": "726b4526-3d23-4ca1-9837-1b9fd95478a9",
   "metadata": {},
   "outputs": [
    {
     "name": "stdout",
     "output_type": "stream",
     "text": [
      " Training Accuracy: 0.8069584736251403\n"
     ]
    }
   ],
   "source": [
    "# Create Pipeline With KNNImputer and Classification Model  \n",
    "model = LogisticRegression(random_state= 42, max_iter=1000)\n",
    "scaler = RobustScaler()\n",
    "imputer = KNNImputer(n_neighbors=5)\n",
    "pipeline = Pipeline(steps=[('i', imputer), ('s', scaler) , ('m', model)])\n",
    "\n",
    "# Fit the Pipeline on Training Data\n",
    "pipeline.fit(X_train, y_train)\n",
    "accuracy = pipeline.score(X_train, y_train)\n",
    "print(f\" Training Accuracy: {accuracy}\")"
   ]
  },
  {
   "cell_type": "code",
   "execution_count": 163,
   "id": "3714a496-486c-44dd-a03b-a20a3fe0b6e1",
   "metadata": {},
   "outputs": [
    {
     "name": "stdout",
     "output_type": "stream",
     "text": [
      "Your submission was successfully saved to a .csv file!\n"
     ]
    }
   ],
   "source": [
    "# Make Survival Prediction in the Test Dataset and Save Results to Excel File\n",
    "predictions = pipeline.predict(X_test)\n",
    "model_output = pd.DataFrame({'PassengerId': test.PassengerId, 'Survived': predictions})\n",
    "model_output.to_csv('C:/Users/New/Downloads/LRPredictions.csv', index=False)\n",
    "print(\"Your submission was successfully saved to a .csv file!\")\n",
    "\n",
    "# Check how many survivors/non-survivors the Model Predicted\n",
    "unique, counts = np.unique(predictions, return_counts=True)\n",
    "dict(zip(unique, counts))\n",
    "\n",
    "# Save Model to a .pkl File \n",
    "pickle.dump(pipeline, open('C:/Users/New/GitProjects/MyProjects/Predicting-Titanic-Survivors/Models/LRModel.pkl', 'wb'))"
   ]
  },
  {
   "cell_type": "markdown",
   "id": "5b7d4e04-754d-4d5a-8bef-c1e11f6fe25c",
   "metadata": {
    "jp-MarkdownHeadingCollapsed": true
   },
   "source": [
    "## Prediction Using the Logistic Regression Cross Validation Model"
   ]
  },
  {
   "cell_type": "code",
   "execution_count": 164,
   "id": "948ab7d7-bf51-4428-900a-9d2b9027ef35",
   "metadata": {},
   "outputs": [
    {
     "name": "stdout",
     "output_type": "stream",
     "text": [
      " Training Accuracy: 0.8080808080808081\n"
     ]
    }
   ],
   "source": [
    "# Create Pipeline With KNNImputer and Logistic Regression CV Model  \n",
    "model = LogisticRegressionCV(cv=5, max_iter = 1000, random_state=42, n_jobs=-1)\n",
    "scaler = RobustScaler()\n",
    "imputer = KNNImputer(n_neighbors=5)\n",
    "pipeline = Pipeline(steps=[('i', imputer), ('s', scaler) , ('m', model)])\n",
    "\n",
    "# Fit the Pipeline on Training Data\n",
    "pipeline.fit(X_train, y_train)\n",
    "accuracy = pipeline.score(X_train, y_train)\n",
    "print(f\" Training Accuracy: {accuracy}\")"
   ]
  },
  {
   "cell_type": "code",
   "execution_count": 165,
   "id": "c6ca9630-e66c-4a97-966e-203c142d5fbb",
   "metadata": {},
   "outputs": [
    {
     "name": "stdout",
     "output_type": "stream",
     "text": [
      "Your submission was successfully saved to a .csv file!\n"
     ]
    }
   ],
   "source": [
    "# Make Survival Prediction in the Test Dataset and Save Results to Excel File\n",
    "predictions = pipeline.predict(X_test)\n",
    "model_output = pd.DataFrame({'PassengerId': test.PassengerId, 'Survived': predictions})\n",
    "model_output.to_csv('C:/Users/New/Downloads/LRCVPredictions.csv', index=False)\n",
    "print(\"Your submission was successfully saved to a .csv file!\")\n",
    "\n",
    "# Check how many survivors/non-survivors the Model Predicted\n",
    "unique, counts = np.unique(predictions, return_counts=True)\n",
    "dict(zip(unique, counts))\n",
    "\n",
    "# Save Model to a .pkl File \n",
    "pickle.dump(pipeline, open('C:/Users/New/GitProjects/MyProjects/Predicting-Titanic-Survivors/Models/LRCVModel.pkl', 'wb'))"
   ]
  },
  {
   "cell_type": "markdown",
   "id": "bd8071af-2be0-46eb-9041-57238ad8bb76",
   "metadata": {},
   "source": [
    "## Prediction Using the Decision Tree Model"
   ]
  },
  {
   "cell_type": "code",
   "execution_count": null,
   "id": "6c194645-a407-4ac7-a4b4-4cb67a695dea",
   "metadata": {},
   "outputs": [],
   "source": []
  },
  {
   "cell_type": "code",
   "execution_count": null,
   "id": "028bd373-7f70-4eb8-ad89-a9ea8694b504",
   "metadata": {},
   "outputs": [],
   "source": []
  }
 ],
 "metadata": {
  "kernelspec": {
   "display_name": "Python 3 (ipykernel)",
   "language": "python",
   "name": "python3"
  },
  "language_info": {
   "codemirror_mode": {
    "name": "ipython",
    "version": 3
   },
   "file_extension": ".py",
   "mimetype": "text/x-python",
   "name": "python",
   "nbconvert_exporter": "python",
   "pygments_lexer": "ipython3",
   "version": "3.11.8"
  }
 },
 "nbformat": 4,
 "nbformat_minor": 5
}
