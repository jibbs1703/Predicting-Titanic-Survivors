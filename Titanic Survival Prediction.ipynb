{
 "cells": [
  {
   "cell_type": "markdown",
   "id": "15fc344a-e20e-4ce3-ab06-de2bbf8ae175",
   "metadata": {},
   "source": [
    "# Titanic Survival Prediction"
   ]
  },
  {
   "cell_type": "markdown",
   "id": "90082797-983f-4bfc-94ac-266b84877b6c",
   "metadata": {},
   "source": [
    "## Importing Libraries and Datasets"
   ]
  },
  {
   "cell_type": "code",
   "execution_count": 2,
   "id": "37ab3c66",
   "metadata": {},
   "outputs": [],
   "source": [
    "# Import Packages for Feature Engineering and Data Visualization\n",
    "import pandas as pd\n",
    "import numpy as np\n",
    "import matplotlib.pyplot as plt\n",
    "import seaborn as sns\n",
    "import pickle\n",
    "\n",
    "# Import Packages for Machine Learning Modelling\n",
    "from sklearn.impute import KNNImputer\n",
    "from sklearn.pipeline import Pipeline\n",
    "from sklearn.preprocessing import StandardScaler, LabelEncoder, RobustScaler\n",
    "from sklearn.linear_model import LogisticRegression, LogisticRegressionCV\n",
    "from sklearn.tree import DecisionTreeClassifier \n",
    "from sklearn.ensemble import RandomForestClassifier\n",
    "from sklearn.model_selection import train_test_split, GridSearchCV,RepeatedStratifiedKFold\n",
    "from sklearn.metrics import accuracy_score"
   ]
  },
  {
   "cell_type": "code",
   "execution_count": 3,
   "id": "129f9514",
   "metadata": {},
   "outputs": [],
   "source": [
    "# Import Datasets\n",
    "train = pd.read_csv(\"C:/Users/New/GitProjects/MyProjects/Predicting-Titanic-Survivors/Datasets/train.csv\")\n",
    "test = pd.read_csv(\"C:/Users/New/GitProjects/MyProjects/Predicting-Titanic-Survivors/Datasets/test.csv\")"
   ]
  },
  {
   "cell_type": "code",
   "execution_count": 4,
   "id": "1e220db8-a5ae-4eab-8256-88585460bff9",
   "metadata": {
    "scrolled": true
   },
   "outputs": [
    {
     "data": {
      "image/png": "[encoded data removed]",
      "text/plain": [
       "<Figure size 640x480 with 1 Axes>"
      ]
     },
     "metadata": {},
     "output_type": "display_data"
    }
   ],
   "source": [
    "# Plot Target Distribution In Train Dataset\n",
    "sns.countplot(data=train, x='Survived')\n",
    "plt.ylabel('Frequency')\n",
    "plt.xlabel('Survival Category')\n",
    "plt.xticks([0.0, 1.0], ['Did Not Survive', 'Survived']);"
   ]
  },
  {
   "cell_type": "markdown",
   "id": "52077aeb-f2c4-4bb1-babc-e1ec95e5f7db",
   "metadata": {},
   "source": [
    "## Feature Engineering and Data Cleaning"
   ]
  },
  {
   "cell_type": "code",
   "execution_count": 5,
   "id": "7f1509c8-7188-496b-a0b4-357a88de0e32",
   "metadata": {},
   "outputs": [],
   "source": [
    "# Create Wrangler Function to Preprocess and Clean Dataset\n",
    "def wrangler (df):\n",
    "    df = df.copy()\n",
    "    # Replace Column Elements for Readability\n",
    "    emb = {\"Q\" : \"Queenstown\" , \"S\" : \"Southampton\" , \"C\" : \"Cherbourg\" }\n",
    "    df['Embarked'].replace(emb)\n",
    "    \n",
    "    cla = {1:\"First Class\", 2: \"Second Class\", 3 :\"Third Class\"}\n",
    "    df['Pclass'].replace(cla).astype('object')\n",
    "\n",
    "    # Transform Ticket into Lettered Column by Ticket Type (Numeric or Alphanumeric Ticket)\n",
    "    def has_letters(string):\n",
    "        return any(char.isalpha() for char in string)\n",
    "    df['Ticket_Type'] = df['Ticket'].apply(has_letters).astype('object')\n",
    "    \n",
    "    # Separate Dataset Features into Categorical and Numeric Variable (Useful For Visualizations)\n",
    "    num_cols = list(df.select_dtypes(exclude=['object']).columns)\n",
    "    cat_cols = list(df.select_dtypes(include=['object']).columns)\n",
    "    \n",
    "    # Encode the Categorical Features\n",
    "    le = LabelEncoder()\n",
    "    for col in cat_cols:\n",
    "        le.fit(df[col])\n",
    "        df[col] = le.transform(df[col])\n",
    "      \n",
    "    # Dropped Unneeded Columns After Feature Engineering\n",
    "    drop_cols = []\n",
    "    drop_col_list = [\"Name\", \"Cabin\", \"Ticket\"]\n",
    "    for col in df.columns:\n",
    "        if col in drop_col_list:\n",
    "            drop_cols.append(col)\n",
    "    \n",
    "    df = df.drop(columns = drop_cols)\n",
    "    return df"
   ]
  },
  {
   "cell_type": "code",
   "execution_count": 6,
   "id": "a52e0e1c-b74b-4a81-aed3-021e0b0b874b",
   "metadata": {},
   "outputs": [],
   "source": [
    "# Preprocess Test and Train Datasets\n",
    "train = wrangler(train)\n",
    "test = wrangler(test)\n",
    "\n",
    "# Create Target, Features, and Train-Test Split\n",
    "X_train = train.drop(['Survived', 'PassengerId' ], axis=1)\n",
    "y_train = train['Survived']\n",
    "X_test = test.drop(['PassengerId' ], axis=1)"
   ]
  },
  {
   "cell_type": "markdown",
   "id": "506fc176-03f9-48c1-bc6e-7980af3f3987",
   "metadata": {},
   "source": [
    "## Prediction Using the Logistic Regression Model"
   ]
  },
  {
   "cell_type": "code",
   "execution_count": 6,
   "id": "3c440782-2577-423f-bc99-00804248be09",
   "metadata": {},
   "outputs": [
    {
     "name": "stdout",
     "output_type": "stream",
     "text": [
      " Training Accuracy: 0.8069584736251403\n"
     ]
    }
   ],
   "source": [
    "# Create Pipeline With Scaler, Imputer and Model  \n",
    "model = LogisticRegression(random_state= 42, max_iter=1000)\n",
    "scaler = RobustScaler()\n",
    "imputer = KNNImputer(n_neighbors=5)\n",
    "pipeline = Pipeline(steps=[('i', imputer), ('s', scaler) , ('m', model)])\n",
    "\n",
    "# Fit the Pipeline on Training Data\n",
    "pipeline.fit(X_train, y_train)\n",
    "accuracy = pipeline.score(X_train, y_train)\n",
    "print(f\" Training Accuracy: {accuracy}\")"
   ]
  },
  {
   "cell_type": "code",
   "execution_count": 7,
   "id": "3714a496-486c-44dd-a03b-a20a3fe0b6e1",
   "metadata": {},
   "outputs": [],
   "source": [
    "# Make Survival Prediction in the Test Dataset and Save Results to Excel File\n",
    "predictions = pipeline.predict(X_test)\n",
    "model_output = pd.DataFrame({'PassengerId': test.PassengerId, 'Survived': predictions})\n",
    "model_output.to_csv('C:/Users/New/Downloads/LRPredictions.csv', index=False)\n",
    "\n",
    "# Check how many survivors/non-survivors the Model Predicted\n",
    "unique, counts = np.unique(predictions, return_counts=True)\n",
    "dict(zip(unique, counts))\n",
    "\n",
    "# Save Model to a .pkl File \n",
    "pickle.dump(pipeline, open('C:/Users/New/GitProjects/MyProjects/Predicting-Titanic-Survivors/Models/LRModel.pkl', 'wb'))"
   ]
  },
  {
   "cell_type": "markdown",
   "id": "5b7d4e04-754d-4d5a-8bef-c1e11f6fe25c",
   "metadata": {},
   "source": [
    "## Prediction Using the Logistic Regression Cross Validation Model"
   ]
  },
  {
   "cell_type": "code",
   "execution_count": 8,
   "id": "718f172e-cfd6-4ab5-95e7-83145bec75b9",
   "metadata": {},
   "outputs": [
    {
     "name": "stdout",
     "output_type": "stream",
     "text": [
      " Training Accuracy: 0.8080808080808081\n"
     ]
    }
   ],
   "source": [
    "# Create Pipeline With Scaler, Imputer and Model\n",
    "model = LogisticRegressionCV(cv=5, max_iter = 1000, random_state=42, n_jobs=-1)\n",
    "scaler = RobustScaler()\n",
    "imputer = KNNImputer(n_neighbors=5)\n",
    "pipeline = Pipeline(steps=[('i', imputer), ('s', scaler) , ('m', model)])\n",
    "\n",
    "# Fit the Pipeline on Training Data\n",
    "pipeline.fit(X_train, y_train)\n",
    "accuracy = pipeline.score(X_train, y_train)\n",
    "print(f\" Training Accuracy: {accuracy}\")"
   ]
  },
  {
   "cell_type": "code",
   "execution_count": 9,
   "id": "c6ca9630-e66c-4a97-966e-203c142d5fbb",
   "metadata": {},
   "outputs": [],
   "source": [
    "# Make Survival Prediction in the Test Dataset and Save Results to Excel File\n",
    "predictions = pipeline.predict(X_test)\n",
    "model_output = pd.DataFrame({'PassengerId': test.PassengerId, 'Survived': predictions})\n",
    "model_output.to_csv('C:/Users/New/Downloads/LRCVPredictions.csv', index=False)\n",
    "\n",
    "# Check how many survivors/non-survivors the Model Predicted\n",
    "unique, counts = np.unique(predictions, return_counts=True)\n",
    "dict(zip(unique, counts))\n",
    "\n",
    "# Save Model to a .pkl File \n",
    "pickle.dump(pipeline, open('C:/Users/New/GitProjects/MyProjects/Predicting-Titanic-Survivors/Models/LRCVModel.pkl', 'wb'))"
   ]
  },
  {
   "cell_type": "markdown",
   "id": "bd8071af-2be0-46eb-9041-57238ad8bb76",
   "metadata": {},
   "source": [
    "## Prediction Using the Decision Tree Classifier"
   ]
  },
  {
   "cell_type": "code",
   "execution_count": 10,
   "id": "3b34b5f2-7117-4769-80cd-3fa892d8876c",
   "metadata": {},
   "outputs": [
    {
     "name": "stdout",
     "output_type": "stream",
     "text": [
      "Best Parameters: {'classifier__criterion': 'entropy', 'classifier__max_depth': 5, 'classifier__min_samples_leaf': 2, 'classifier__min_samples_split': 2}\n",
      " Training Accuracy: 0.8473625140291807\n"
     ]
    }
   ],
   "source": [
    "# Create Pipeline With Scaler, Imputer and Model\n",
    "pipeline = Pipeline([('scaler', StandardScaler()),  ('imputer', KNNImputer(n_neighbors=5)), ('classifier', DecisionTreeClassifier(random_state=42))])\n",
    "\n",
    "# Prepare Hyperparameter Tuning Dictionary\n",
    "param_grid = {'classifier__criterion': ['gini', 'entropy'], 'classifier__max_depth': [None, 5, 10, 15],\n",
    "              'classifier__min_samples_split': [2, 5, 10], 'classifier__min_samples_leaf': [1, 2, 4]}\n",
    "\n",
    "# Tune Hyperparameters \n",
    "grid_search = GridSearchCV(pipeline, param_grid, cv=5)\n",
    "grid_search.fit(X_train, y_train)\n",
    "best_params = grid_search.best_params_\n",
    "print(\"Best Parameters:\", best_params)\n",
    "\n",
    "# Select the Best Estimator to Fit Training Data\n",
    "best_estimator = grid_search.best_estimator_\n",
    "accuracy = best_estimator.score(X_train, y_train)\n",
    "print(f\" Training Accuracy: {accuracy}\")"
   ]
  },
  {
   "cell_type": "code",
   "execution_count": 11,
   "id": "cd65265b-55cc-4d1e-bfee-7d767a78f401",
   "metadata": {},
   "outputs": [],
   "source": [
    "# Make Survival Prediction in the Test Dataset and Save Results to Excel File\n",
    "predictions = best_estimator.predict(X_test)\n",
    "model_output = pd.DataFrame({'PassengerId': test.PassengerId, 'Survived': predictions})\n",
    "model_output.to_csv('C:/Users/New/Downloads/DTCPredictions.csv', index=False)\n",
    "\n",
    "# Check how many survivors/non-survivors the Model Predicted\n",
    "unique, counts = np.unique(predictions, return_counts=True)\n",
    "dict(zip(unique, counts))\n",
    "\n",
    "# Save Model to a .pkl File \n",
    "pickle.dump(pipeline, open('C:/Users/New/GitProjects/MyProjects/Predicting-Titanic-Survivors/Models/DTCModel.pkl', 'wb'))"
   ]
  },
  {
   "cell_type": "markdown",
   "id": "907b5b29-e028-4714-9222-19537ae611f7",
   "metadata": {},
   "source": [
    "## Prediction Using Random Forest Classifier"
   ]
  },
  {
   "cell_type": "code",
   "execution_count": 12,
   "id": "1961de26-3c7c-4250-a692-4fef49f36732",
   "metadata": {},
   "outputs": [
    {
     "name": "stdout",
     "output_type": "stream",
     "text": [
      "Fitting 15 folds for each of 216 candidates, totalling 3240 fits\n",
      "Best Parameters: {'classifier__bootstrap': False, 'classifier__max_depth': None, 'classifier__min_samples_leaf': 4, 'classifier__min_samples_split': 10, 'classifier__n_estimators': 100}\n",
      " Training Accuracy: 0.9012345679012346\n"
     ]
    }
   ],
   "source": [
    "# Create Pipeline With Scaler, Imputer and Model\n",
    "pipeline = Pipeline([('scaler', StandardScaler()),  ('imputer', KNNImputer(n_neighbors=5)), ('classifier', RandomForestClassifier(random_state=42))])\n",
    "\n",
    "# Prepare Hyperparameter Tuning Dictionary\n",
    "param_grid = {'classifier__n_estimators': [100, 200, 300], 'classifier__max_depth': [None, 5, 10, 15],\n",
    "              'classifier__min_samples_split': [2, 5, 10], 'classifier__min_samples_leaf': [1, 2, 4], 'classifier__bootstrap': [True, False]}\n",
    "# Tune Hyperparameters \n",
    "cv = RepeatedStratifiedKFold(n_splits=5, n_repeats=3, random_state=42)\n",
    "grid_search = GridSearchCV(pipeline, param_grid, cv=cv, scoring='accuracy', verbose=1, n_jobs=-1)\n",
    "#grid_search = GridSearchCV(pipeline, param_grid, cv=5, verbose=1, n_jobs=-1)\n",
    "grid_search.fit(X_train, y_train)\n",
    "best_params = grid_search.best_params_\n",
    "print(\"Best Parameters:\", best_params)\n",
    "\n",
    "# Select the Best Estimator to Fit Training Data\n",
    "best_estimator = grid_search.best_estimator_\n",
    "accuracy = best_estimator.score(X_train, y_train)\n",
    "print(f\" Training Accuracy: {accuracy}\")"
   ]
  },
  {
   "cell_type": "code",
   "execution_count": 13,
   "id": "674ec724-9aa7-4605-831f-270ee3835283",
   "metadata": {},
   "outputs": [],
   "source": [
    "# Make Survival Prediction in the Test Dataset and Save Results to Excel File\n",
    "predictions = best_estimator.predict(X_test)\n",
    "model_output = pd.DataFrame({'PassengerId': test.PassengerId, 'Survived': predictions})\n",
    "model_output.to_csv('C:/Users/New/Downloads/RFCPredictions.csv', index=False)\n",
    "\n",
    "# Check how many survivors/non-survivors the Model Predicted\n",
    "unique, counts = np.unique(predictions, return_counts=True)\n",
    "dict(zip(unique, counts))\n",
    "\n",
    "# Save Model to a .pkl File \n",
    "pickle.dump(pipeline, open('C:/Users/New/GitProjects/MyProjects/Predicting-Titanic-Survivors/Models/RFCModel.pkl', 'wb'))"
   ]
  },
  {
   "cell_type": "markdown",
   "id": "85f30d9d-fdda-4e80-9df0-31efdbb2a372",
   "metadata": {},
   "source": [
    "## Check Feature Importance of Best Model and Save Best Model for Web App"
   ]
  },
  {
   "cell_type": "code",
   "execution_count": 14,
   "id": "1e2fb861-3296-4b5a-881d-1f88a09576b8",
   "metadata": {},
   "outputs": [],
   "source": [
    "# Saving the Best Model to appmodel.pkl for Web App\n",
    "pipeline = Pipeline([('scaler', StandardScaler()),  ('imputer', KNNImputer(n_neighbors=5)), ('classifier', DecisionTreeClassifier(random_state=42, criterion = 'entropy', max_depth = 5, min_samples_leaf = 2, min_samples_split = 2))])\n",
    "pipeline.fit(X_train, y_train)\n",
    "pickle.dump(pipeline, open('C:/Users/New/GitProjects/MyProjects/Predicting-Titanic-Survivors/appmodel.pkl', 'wb'))\n",
    "\n",
    "# Extracting Feature Importance in the Best Model\n",
    "decision_tree = pipeline.named_steps['classifier']\n",
    "importances = decision_tree.feature_importances_\n",
    "feature_names = X_train.columns\n",
    "feature_importances = dict(zip(feature_names, importances))"
   ]
  },
  {
   "cell_type": "code",
   "execution_count": 15,
   "id": "368edb33-41af-48f1-9450-775ed95771b0",
   "metadata": {},
   "outputs": [
    {
     "data": {
      "image/png": "[encoded data removed]",
      "text/plain": [
       "<Figure size 640x480 with 1 Axes>"
      ]
     },
     "metadata": {},
     "output_type": "display_data"
    }
   ],
   "source": [
    "# Visualization of the Most Important Determinants of Survival\n",
    "plt.barh(feature_names, importances)\n",
    "plt.xlabel('Importance')\n",
    "plt.ylabel('Feature')\n",
    "plt.title('Feature Importances')\n",
    "plt.show()"
   ]
  }
 ],
 "metadata": {
  "kernelspec": {
   "display_name": "Python 3 (ipykernel)",
   "language": "python",
   "name": "python3"
  },
  "language_info": {
   "codemirror_mode": {
    "name": "ipython",
    "version": 3
   },
   "file_extension": ".py",
   "mimetype": "text/x-python",
   "name": "python",
   "nbconvert_exporter": "python",
   "pygments_lexer": "ipython3",
   "version": "3.11.8"
  }
 },
 "nbformat": 4,
 "nbformat_minor": 5
}
